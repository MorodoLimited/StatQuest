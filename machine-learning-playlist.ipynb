{
 "cells": [
  {
   "cell_type": "markdown",
   "metadata": {},
   "source": [
    "# StatQuest Machine Learning Playlist Notes:\n",
    "\n",
    "https://www.youtube.com/channel/UCtYLUTtgS3k1Fg4y5tAhLbw\n",
    "\n",
    "\n",
    "## V-1: A Gentle Introduction to Machine Learning\n",
    "\n",
    "- Fitting the Training Data well but making poor predictions is called the __Bias-Varience Tradeoff__.\n",
    "\n",
    "- The idea about choosing the best machine learning method is __how well a method performs on testing data__. It can be any method performs well with your problem. \n",
    "\n",
    "## V-2: Cross Validation\n",
    "\n",
    "- Want to use the variables Chest Pain, Good Blood Circ, Blocked Arteries, Weight to predict if smo has heart disease. Using the data we have below, we can learn.\n",
    "\n",
    "| Chest Pain | Good Blood Circ | Blocked Arteries | Weight | __HeartDisease__ |\n",
    "| --- | --- | --- |--- | --- |\n",
    "| No | No | No | 125 | __No__ |\n",
    "| Yes | Yes | Yes | 180 | __Yes__ |\n",
    "| Yes | Yes | No | 210 | __No__ |\n",
    "| ... | ... | ... | ... | __...__ |\n",
    "\n",
    "- When a new patient comes we can use what we have learnt above. \n",
    "\n",
    "| Chest Pain | Good Blood Circ | Blocked Arteries | Weight | __HeartDisease__ |\n",
    "| --- | --- | --- |--- | --- |\n",
    "| No | Yes | No | 150 | __???__ |\n",
    "\n",
    "- __The important question is which machine learning method we should use to solve this problem__. Logistic regession, SVM, k-NN ...? __Cross Validation__ lets us compare different machine learning methods.\n",
    "\n",
    "#### Cross Vaidation:\n",
    "\n",
    "\n"
   ]
  },
  {
   "cell_type": "code",
   "execution_count": null,
   "metadata": {},
   "outputs": [],
   "source": []
  }
 ],
 "metadata": {
  "kernelspec": {
   "display_name": "Python 3",
   "language": "python",
   "name": "python3"
  },
  "language_info": {
   "codemirror_mode": {
    "name": "ipython",
    "version": 3
   },
   "file_extension": ".py",
   "mimetype": "text/x-python",
   "name": "python",
   "nbconvert_exporter": "python",
   "pygments_lexer": "ipython3",
   "version": "3.7.7"
  }
 },
 "nbformat": 4,
 "nbformat_minor": 4
}
